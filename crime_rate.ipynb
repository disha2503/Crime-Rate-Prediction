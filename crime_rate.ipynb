import pandas as pd
import numpy as np
import matplotlib.pyplot as plt
import seaborn as sns
from sklearn import metrics
from sklearn.preprocessing import LabelEncoder
from sklearn.linear_model import LinearRegression
import tkinter as tk
from sklearn.model_selection import train_test_split
import warnings
from PIL import Image, ImageTk
from tkinter import messagebox

data=pd.read_csv('ManMadeX.csv')
data.head()
data.describe()
data.info()
dataset=pd.DataFrame()
dataset['District']=data['District']
dataset['Year']=data['Year']
dataset['Murder']=data['Murder']
dataset['Crime_aginst_Women']=data['Crime aginst Women']
dataset['CyberCrime']=data['Cyber Crime']
dataset['Kidnapping']=data['Kidnapping']
dataset['Total']=data['Total Crime']
dataset.head()
dataset.describe()
data.info()
le1 = LabelEncoder()
dataset['District'] = le1.fit_transform(dataset['District'])

districts = le1.inverse_transform(dataset['District'].unique())


x = dataset.iloc[:,:-1]
y = dataset.iloc[:,-1]
x.head() 
x_train,x_test,y_train,y_test=train_test_split(x,y,test_size=0.20,random_state=2)
regressor=LinearRegression()
regressor.fit(x_train,y_train)
training_data_prediction=regressor.predict(x_train)
r2_train=metrics.r2_score(y_train,training_data_prediction)
print("R squared value:",r2_train)
test_data_prediction=regressor.predict(x_test)
r2_test=metrics.r2_score(y_test,test_data_prediction)
print("R squared value:",r2_test)


root = tk.Tk()
# Set window size and title
root.geometry("2000x800")

image = Image.open("crimeimage.png")
image = image.resize((2000, 800))

# Convert the image to a Tkinter-compatible format
photo = ImageTk.PhotoImage(image)

# Create a Label widget with the image as its background and place it in the window
image_label = tk.Label(root, image=photo)
image_label.place(x=0, y=0, relwidth=1, relheight=1)






heading_frame = tk.Frame(root)
heading_frame.pack()

# Add a label widget with the heading text
heading_label = tk.Label(heading_frame, text="CRIME RATE PREDICTION", font=('Times New Roman',30,'bold'),bg="white",fg="black")
heading_label.pack(pady=10)


root.title("Crime Prediction")
district_label = tk.Label(root, text="Select District:",font=('Times New Roman',15,'bold'))
district_label.pack(pady=10)

district_var = tk.StringVar(root)
district_var.set(districts[0])

district_option = tk.OptionMenu(root, district_var, *districts)
district_option.config(width=20,font=("Times New Roman", 12))
district_option.pack(pady=6)

year_label = tk.Label(root, text="Select Year:",font=('Times New Roman',15,'bold'))
year_label.pack()

years = list(range(data['Year'].min(), data['Year'].max()+1))
year_var = tk.StringVar(root)
year_var.set(years[0])

year_option = tk.OptionMenu(root, year_var, *years)
year_option.config(width=20,font=("Times New Roman", 12))
year_option.pack(pady=6)

murder_label = tk.Label(root, text="Enter Murder Count:",font=('Times New Roman',15,'bold'))
murder_label.pack()



murder_entry = tk.Entry(root)
murder_entry.pack(pady=6)

women_label = tk.Label(root, text="Enter Crimes Against Women Count:",font=('Times New Roman',15,'bold'))
women_label.pack()

women_entry = tk.Entry(root)
women_entry.pack(pady=6)

cybercrime_label = tk.Label(root, text="Enter Cyber Crime Count:",font=('Times New Roman',15,'bold'))
cybercrime_label.pack()

cybercrime_entry = tk.Entry(root)
cybercrime_entry.pack(pady=6)

kidnapping_label = tk.Label(root, text="Enter Kidnapping Count:",font=('Times New Roman',15,'bold'))
kidnapping_label.pack()

kidnapping_entry = tk.Entry(root)
kidnapping_entry.pack(pady=6)
def predict_crime_rate():
    district = district_var.get()
    year = int(year_var.get())
    crimes_against_women = int(women_entry.get())
    cybercrime = int(cybercrime_entry.get())

    murder = int(murder_entry.get())
    kidnapping = int(kidnapping_entry.get())
    
    district_encoded = le1.transform([district])[0]
   
    
    input_data = np.array([district_encoded, year, murder, crimes_against_women, cybercrime, kidnapping])
    input_data_reshaped = input_data.reshape(1,-2)
    
    prediction = regressor.predict(input_data_reshaped)[0]
    

    result_label.config(text="Predicted crime rate: {:.2f}".format(prediction),font=("Arial", 16))
   
    

def predict_button():
    district_var = tk.StringVar(root)
    year_var = tk.StringVar(root)
    district = district_var.get()
    year = int(year_var.get())
    murder = int(murder_entry.get())
    crimes_against_women = int(women_entry.get())
    cybercrime = int(cybercrime_entry.get())
    kidnapping = int(kidnapping_entry.get())
    
    crime = predict_crime_rate()
   
    messagebox.showinfo("Crime Prediction", f"Predicted crime rate for district {district} in {year}: {crime:.2f} mm",font=("Arial", 16))




data1=pd.read_csv('Book2.csv')
data1.head()
data1.describe()
data1.info()
dataset1=pd.DataFrame()
dataset1['Districtname']=data1['DistrictName']
dataset1['Availableyear']=data1['AvailableYear']

dataset1['TotalCrime']=data1['CrimeRate']
dataset1.head()
dataset1.describe()
data1.info()
le = LabelEncoder()
dataset1['Districtname'] = le.fit_transform(dataset1['Districtname'])

districtnames = le.inverse_transform(dataset1['Districtname'].unique())
x1 = dataset1.iloc[:,:-1]
y1 = dataset1.iloc[:,-1]
x1.head()
x1_train,x1_test,y1_train,y1_test=train_test_split(x1,y1,test_size=0.20,random_state=2)
regressor1=LinearRegression()
regressor1.fit(x1_train,y1_train)
training_data_prediction1=regressor1.predict(x1_train)
r2_train1=metrics.r2_score(y1_train,training_data_prediction1)
test_data_prediction1=regressor1.predict(x1_test)
r2_test1=metrics.r2_score(y1_test,test_data_prediction1)


        

def future_prediction():
    root1 = tk.Toplevel(root)
    root1.title("Future crime rate prediction")
    root1.geometry("2000x800")
    heading_frame = tk.Frame(root1)
    heading_frame.pack()
   
    
# Add a label widget with the heading text
    heading_label = tk.Label(heading_frame, text="FUTURE CRIME RATE PREDICTION", font=('Times New Roman',30,'bold'),bg="white",fg="black")
    heading_label.pack(pady=20)

    districtname_label = tk.Label(root1, text="Select District:",font=('Times New Roman',15,'bold'))
    districtname_label.pack()

    districtname_var = tk.StringVar(root1)
    districtname_var.set(districtnames[0])

    districtname_option = tk.OptionMenu(root1, districtname_var, *districtnames)
    districtname_option.config(width=20,font=("Times New Roman", 12))
    districtname_option.pack(pady=10)
    availableyear_label = tk.Label(root1, text="Select Year:",font=('Times New Roman',15,'bold'))
    availableyear_label.pack()

    availableyears = list(range(data1['AvailableYear'].min(), data1['AvailableYear'].max()+1))
    availableyear_var = tk.StringVar(root1)
    availableyear_var.set(availableyears[0])

    availableyear_option = tk.OptionMenu(root1, availableyear_var, *availableyears)
    availableyear_option.config(width=20,font=("Times New Roman", 12))
    availableyear_option.pack(pady=10)
    

    def predict_futurecrime_rate():
        districtname =  districtname_var.get()
        availableyear = int(availableyear_var.get())
       
        districtname_encoded = le.transform([districtname])[0]
        input_data = np.array([districtname_encoded, availableyear])
        input_data_reshaped = input_data.reshape(1,-2)
        prediction1 = regressor1.predict(input_data_reshaped)[0]
        result_label1.config(text="Future crime rate: {:.2f}".format(prediction1),font=("Arial", 16))

    def predict_future():
        districtname =  districtname_var.get()
        availableyear = int(availableyear_var.get())
       
        crime2 = predict_futurecrime_rate()
        messagebox.showinfo("Future Prediction", f"Predicted crime rate for district {districtname} in {availableyear}: {crime2:.2f} mm")

    predict_button1 = tk.Button(root1, text="Predict", command=predict_futurecrime_rate,bg="black",fg="white",height=1,width=20,font=('Times New Roman',20,'bold'))
    predict_button1.pack(pady=10)
    result_label1 = tk.Label(root1, text="")
    result_label1.pack()   




predict_button = tk.Button(root, text="Crime rate", command=predict_crime_rate,bg="black",fg="white",height=1,width=20,font=('Times New Roman',20,'bold'))
predict_button.pack(pady=6)



result_label = tk.Label(root, text="")
result_label.pack(pady=6)

future_button = tk.Button(root, text="Future Prediction", command=future_prediction,bg="black",fg="white",height=1,width=20,font=('Times New Roman',20,'bold'))
future_button.pack(pady=6)
root.mainloop()
